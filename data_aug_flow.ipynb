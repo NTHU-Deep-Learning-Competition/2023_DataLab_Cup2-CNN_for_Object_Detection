{
 "cells": [
  {
   "cell_type": "markdown",
   "metadata": {},
   "source": [
    "1. Clone from [github](https://github.com/Paperspace/DataAugmentationForObjectDetection), This job is to augment image from the datasets"
   ]
  },
  {
   "cell_type": "code",
   "execution_count": null,
   "metadata": {},
   "outputs": [],
   "source": [
    "import sys\n",
    "from data_aug.data_aug import RandomHorizontalFlip, RandomHSV, RandomScale, RandomShear, Sequence"
   ]
  },
  {
   "cell_type": "markdown",
   "metadata": {},
   "source": [
    "## Get Sticker"
   ]
  },
  {
   "cell_type": "markdown",
   "metadata": {},
   "source": [
    "### Data augmentation flow\n",
    "\n",
    "1. Input an Image"
   ]
  },
  {
   "cell_type": "code",
   "execution_count": null,
   "metadata": {},
   "outputs": [],
   "source": [
    "%matplotlib inline\n",
    "from matplotlib import pyplot as plt\n"
   ]
  },
  {
   "cell_type": "code",
   "execution_count": null,
   "metadata": {},
   "outputs": [],
   "source": [
    "# common params\n",
    "IMAGE_SIZE = 448\n",
    "BATCH_SIZE = 8\n",
    "NUM_CLASSES = 20\n",
    "MAX_OBJECTS_PER_IMAGE = 20\n",
    "\n",
    "# dataset params\n",
    "DATA_PATH = './dataset/pascal_voc_training_data.txt'\n",
    "IMAGE_DIR = './dataset/VOCdevkit_train/VOC2007/JPEGImages/'\n",
    "\n",
    "AUG_DATASET = True\n",
    "DATA_AUG_PATH = './dataset/pascal_voc_training_data_aug.txt'\n",
    "IMAGE_AUG_DIR = './dataset/VOCdevkit_train/VOC2007/JPEGImages_Aug/'\n",
    "\n",
    "# model params\n",
    "CELL_SIZE = 7\n",
    "BOXES_PER_CELL = 2\n",
    "OBJECT_SCALE = 1\n",
    "NOOBJECT_SCALE = 0.5\n",
    "CLASS_SCALE = 1\n",
    "COORD_SCALE = 5\n",
    "\n",
    "# training params\n",
    "LEARNING_RATE = 1e-5\n",
    "EPOCHS = 40"
   ]
  },
  {
   "cell_type": "code",
   "execution_count": null,
   "metadata": {},
   "outputs": [],
   "source": [
    "classes_name =  [\"aeroplane\", \"bicycle\", \"bird\", \"boat\", \"bottle\", \n",
    "                 \"bus\", \"car\", \"cat\", \"chair\", \"cow\", \"diningtable\", \n",
    "                 \"dog\", \"horse\", \"motorbike\", \"person\", \"pottedplant\", \n",
    "                 \"sheep\", \"sofa\", \"train\",\"tvmonitor\"]"
   ]
  },
  {
   "cell_type": "code",
   "execution_count": null,
   "metadata": {},
   "outputs": [],
   "source": [
    "from utils import *\n",
    "CUT_BBOXS = False"
   ]
  },
  {
   "cell_type": "code",
   "execution_count": null,
   "metadata": {},
   "outputs": [],
   "source": [
    "if CUT_BBOXS:\n",
    "    class_counts, image_name_dict = cut_bboxs(DATA_PATH, IMAGE_DIR)\n",
    "else:\n",
    "    class_counts, image_name_dict = count_bboxs(DATA_PATH, IMAGE_DIR)\n",
    "print(image_name_dict)\n",
    "\n"
   ]
  },
  {
   "cell_type": "code",
   "execution_count": null,
   "metadata": {},
   "outputs": [],
   "source": [
    "import random\n",
    "\n",
    "def choose_sticker():\n",
    "    inverted_class_counts = {key: 1 / value for key, value in class_counts.items()}\n",
    "    total_count = sum(inverted_class_counts.values())\n",
    "    probabilities = {key: value / total_count for key, value in inverted_class_counts.items()}\n",
    "    # sorted_probabilities = {k: v for k, v in sorted(probabilities.items(), key=lambda item: item[1])}\n",
    "    # print(sorted_probabilities)\n",
    "\n",
    "    # 通過值的大小當作機率選擇 key\n",
    "    chosen_sticker = random.choices(list(probabilities.keys()), weights=list(probabilities.values()))[0]\n",
    "    return chosen_sticker\n",
    "\n",
    "# test = []\n",
    "# for i in range(100):\n",
    "chosen_sticker = choose_sticker()\n",
    "    # test.append(chosen_sticker)\n",
    "print(\"choosen sticker:\", chosen_sticker)"
   ]
  },
  {
   "cell_type": "code",
   "execution_count": null,
   "metadata": {},
   "outputs": [],
   "source": [
    "def random_image_from_folder(folder_path):\n",
    "    # 檢查資料夾是否存在\n",
    "    if not os.path.exists(folder_path):\n",
    "        print(f\"Folder '{folder_path}' not exist\")\n",
    "        return None\n",
    "\n",
    "    # 獲取資料夾中的所有文件\n",
    "    all_files = os.listdir(folder_path)\n",
    "\n",
    "    # 過濾出圖像文件（這裡假設你的照片文件是圖像格式，如JPEG）\n",
    "    image_files = [file for file in all_files if file.lower().endswith(('.png', '.jpg', '.jpeg', '.gif', '.bmp'))]\n",
    "\n",
    "    # 檢查是否有可用的圖像文件\n",
    "    if not image_files:\n",
    "        print(f\"資料夾 '{folder_path}' 中沒有圖像文件。\")\n",
    "        return None\n",
    "\n",
    "    # 從圖像文件中隨機挑選一張\n",
    "    random_image = random.choice(image_files)\n",
    "\n",
    "    # 返回完整的文件路徑\n",
    "    return os.path.join(folder_path, random_image)\n",
    "\n",
    "chosen_sticker = choose_sticker()\n",
    "random_folder_path = './bboxs/origial_stickers/' + chosen_sticker\n",
    "print(random_folder_path)\n",
    "img = cv.imread(random_image_from_folder(random_folder_path))\n",
    "plt.imshow(img)\n",
    "print(img.shape)"
   ]
  },
  {
   "cell_type": "code",
   "execution_count": null,
   "metadata": {},
   "outputs": [],
   "source": [
    "image_name_list, bboxs_list = zip(*image_name_dict.items())\n",
    "image_name_list = list(image_name_list)\n",
    "bboxs_list = list(bboxs_list)\n",
    "\n",
    "print(image_name_list)\n",
    "print(bboxs_list)"
   ]
  },
  {
   "cell_type": "code",
   "execution_count": null,
   "metadata": {},
   "outputs": [],
   "source": [
    "object_num_list = [len(bboxs) for bboxs in bboxs_list]\n",
    "print(object_num_list)\n",
    "\n",
    "object_class_list = [[bbox[-1] for bbox in bboxs] for bboxs in bboxs_list]\n",
    "print(object_class_list)"
   ]
  },
  {
   "cell_type": "code",
   "execution_count": null,
   "metadata": {},
   "outputs": [],
   "source": [
    "aug_image_name_list = []\n",
    "class_count = np.zeros(NUM_CLASSES, int)\n",
    "total_image_num = len(image_name_list)\n",
    "image_count = np.zeros(total_image_num, int)\n",
    "\n",
    "for i in range(total_image_num):\n",
    "    class_list = object_class_list[i]\n",
    "    aug_image_name_list.append(f'{image_count[i]}_{image_name_list[i]}')\n",
    "    image_count[i] += 1\n",
    "    for c in class_list:\n",
    "        class_count[c] += 1\n",
    "\n",
    "LOWER_BOUND = 3000\n",
    "sorted_indices = np.argsort(object_num_list)[::-1]\n",
    "invalid_aug = np.zeros(total_image_num, int)\n",
    "while True:\n",
    "    for i in sorted_indices:\n",
    "        class_list = object_class_list[i]\n",
    "        if invalid_aug[i] or (class_count[class_list] >= LOWER_BOUND).any():\n",
    "            invalid_aug[i] = 1\n",
    "            continue\n",
    "        else:\n",
    "            aug_image_name_list.append(f'{image_count[i]}_{image_name_list[i]}')\n",
    "            image_count[i] += 1\n",
    "            for c in class_list:\n",
    "                class_count[c] += 1\n",
    "    if (class_count >= LOWER_BOUND).all():\n",
    "        break\n",
    "\n",
    "for r in range(5):\n",
    "    for c in range(NUM_CLASSES // 5):\n",
    "        i = r + c * 5\n",
    "        print(f'{i:2d}) {classes_name[i]:11} {class_count[i]:4d}', end=('\\n' if c == 3 else '\\t'))"
   ]
  },
  {
   "cell_type": "code",
   "execution_count": null,
   "metadata": {},
   "outputs": [],
   "source": [
    "import os\n",
    "import cv2 as cv\n",
    "import tensorflow as tf\n",
    "import numpy as np\n",
    "\n",
    "# BACKGROUND_IMAGE_PATH = './dataset/VOCdevkit_train/VOC2007/JPEGImages/'\n",
    "IMAGE_AUG_PATH = './dataset/VOCdevkit_train/VOC2007/JPEGImages_Aug_with_All/' # destination to save image\n",
    "DATA_AUG_PATH = './dataset/pascal_voc_training_data_aug_with_All.txt'\n",
    "\n",
    "def image_aug():\n",
    "\n",
    "    seq = Sequence([RandomHSV(50,50,50),\n",
    "                    RandomHorizontalFlip(0.5),\n",
    "                    RandomScale(0.2),\n",
    "                    RandomShear(0.2)])\n",
    "    \n",
    "    \n",
    "    # seq = Sequence([RandomHSV(50,50,50),\n",
    "                    # RandomHorizontalFlip(0.5),\n",
    "                    # RandomScale(0.2, 2.0)])\n",
    "\n",
    "    with open (DATA_AUG_PATH,'w') as fout:\n",
    "        \n",
    "        for name in aug_image_name_list:\n",
    "            num_count, origin_name = name.split('_')\n",
    "            input_image_name = IMAGE_DIR + origin_name\n",
    "            input_tf_image = tf.io.read_file(input_image_name)\n",
    "            input_image = tf.io.decode_jpeg(input_tf_image, channels=3)\n",
    "            input_bboxes = np.array(image_name_dict.get(origin_name)).astype(float)\n",
    "\n",
    "\n",
    "\n",
    "            if num_count != '0': # need to do augmentation\n",
    "                aug_image, new_bboxes = seq(input_image.numpy().copy(), input_bboxes.copy())\n",
    "\n",
    "                # TODO: paste sticker into background image\n",
    "\n",
    "                aug_image = tf.io.encode_jpeg(aug_image)\n",
    "                tf.io.write_file(os.path.join(IMAGE_AUG_PATH, name), aug_image)\n",
    "                buff_list = [name] + [str(int(b)) for box in new_bboxes for b in box]\n",
    "                fout.write(' '.join(buff_list) + '\\n')\n",
    "\n",
    "            else: # no need to augmentation\n",
    "                origin_img = tf.io.encode_jpeg(input_image)\n",
    "                tf.io.write_file(os.path.join(IMAGE_AUG_PATH, name), origin_img)\n",
    "                buff_list = [name] + [str(int(b)) for box in input_bboxes for b in box]\n",
    "                fout.write(' '.join(buff_list) + '\\n')\n",
    "            \n",
    "\n",
    "image_aug()"
   ]
  }
 ],
 "metadata": {
  "kernelspec": {
   "display_name": "DL",
   "language": "python",
   "name": "python3"
  },
  "language_info": {
   "codemirror_mode": {
    "name": "ipython",
    "version": 3
   },
   "file_extension": ".py",
   "mimetype": "text/x-python",
   "name": "python",
   "nbconvert_exporter": "python",
   "pygments_lexer": "ipython3",
   "version": "3.9.13"
  }
 },
 "nbformat": 4,
 "nbformat_minor": 2
}
